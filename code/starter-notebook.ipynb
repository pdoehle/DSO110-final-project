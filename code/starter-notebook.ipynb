{
 "cells": [
  {
   "cell_type": "markdown",
   "id": "d167618b-9f6f-45c2-a74d-0bc2f5043a91",
   "metadata": {},
   "source": [
    "# Starter Python Jupyter notebook"
   ]
  },
  {
   "cell_type": "code",
   "execution_count": null,
   "id": "0d5ef58c-bcb4-4ecd-81af-a4e4d2f746a2",
   "metadata": {},
   "outputs": [],
   "source": [
    "import os\n",
    "import pandas as pd\n",
    "\n",
    "# Path to your project directory\n",
    "project_dir = 'PATH/TO/YOUR/PROJECT/DIRECTORY'\n",
    "\n",
    "# change directory to project directory\n",
    "os.chdir(project_dir)"
   ]
  },
  {
   "cell_type": "code",
   "execution_count": null,
   "id": "b2788a08-68cc-4071-b163-c93f306e7ac0",
   "metadata": {},
   "outputs": [],
   "source": [
    "# import dataset\n",
    "my_data = pd.read_csv(os.path.join(project_dir, 'data-raw', 'example-data.csv'))"
   ]
  }
 ],
 "metadata": {
  "kernelspec": {
   "display_name": "Python 3 (ipykernel)",
   "language": "python",
   "name": "python3"
  },
  "language_info": {
   "codemirror_mode": {
    "name": "ipython",
    "version": 3
   },
   "file_extension": ".py",
   "mimetype": "text/x-python",
   "name": "python",
   "nbconvert_exporter": "python",
   "pygments_lexer": "ipython3",
   "version": "3.9.12"
  }
 },
 "nbformat": 4,
 "nbformat_minor": 5
}
